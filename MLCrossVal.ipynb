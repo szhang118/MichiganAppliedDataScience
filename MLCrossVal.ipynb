{
 "cells": [
  {
   "cell_type": "code",
   "execution_count": 1,
   "metadata": {
    "collapsed": true
   },
   "outputs": [],
   "source": [
    "import numpy as np\n",
    "import pandas as pd\n",
    "import seaborn as sns\n",
    "import matplotlib.pyplot as plt\n",
    "%matplotlib inline\n",
    "plt.style.use(\"fivethirtyeight\")"
   ]
  },
  {
   "cell_type": "code",
   "execution_count": 2,
   "metadata": {
    "collapsed": true
   },
   "outputs": [],
   "source": [
    "fraud = pd.read_csv(\"fraud_data.csv\")"
   ]
  },
  {
   "cell_type": "code",
   "execution_count": 3,
   "metadata": {
    "collapsed": false
   },
   "outputs": [
    {
     "name": "stdout",
     "output_type": "stream",
     "text": [
      "(21693, 30)\n"
     ]
    }
   ],
   "source": [
    "print fraud.shape"
   ]
  },
  {
   "cell_type": "code",
   "execution_count": 4,
   "metadata": {
    "collapsed": false
   },
   "outputs": [
    {
     "name": "stdout",
     "output_type": "stream",
     "text": [
      "Index([u'V1', u'V2', u'V3', u'V4', u'V5', u'V6', u'V7', u'V8', u'V9', u'V10',\n",
      "       u'V11', u'V12', u'V13', u'V14', u'V15', u'V16', u'V17', u'V18', u'V19',\n",
      "       u'V20', u'V21', u'V22', u'V23', u'V24', u'V25', u'V26', u'V27', u'V28',\n",
      "       u'Amount', u'Class'],\n",
      "      dtype='object')\n"
     ]
    }
   ],
   "source": [
    "print fraud.columns"
   ]
  },
  {
   "cell_type": "code",
   "execution_count": 6,
   "metadata": {
    "collapsed": false
   },
   "outputs": [],
   "source": [
    "from sklearn.model_selection import train_test_split"
   ]
  },
  {
   "cell_type": "code",
   "execution_count": 7,
   "metadata": {
    "collapsed": false
   },
   "outputs": [
    {
     "name": "stdout",
     "output_type": "stream",
     "text": [
      "Percentage of fraudulent observations in dataset: 0.016410823768\n"
     ]
    }
   ],
   "source": [
    "print \"Percentage of fraudulent observations in dataset:\", fraud.Class.mean()"
   ]
  },
  {
   "cell_type": "code",
   "execution_count": 9,
   "metadata": {
    "collapsed": false
   },
   "outputs": [],
   "source": [
    "X = fraud.iloc[:, :-1]\n",
    "y = fraud.iloc[:, -1]\n",
    "xtrain, xtest, ytrain, ytest = train_test_split(X, y, random_state = 0)"
   ]
  },
  {
   "cell_type": "code",
   "execution_count": 10,
   "metadata": {
    "collapsed": false
   },
   "outputs": [
    {
     "name": "stdout",
     "output_type": "stream",
     "text": [
      "(16269, 29) (5424, 29) (16269L,) (5424L,)\n"
     ]
    }
   ],
   "source": [
    "print xtrain.shape, xtest.shape, ytrain.shape, ytest.shape"
   ]
  },
  {
   "cell_type": "code",
   "execution_count": 13,
   "metadata": {
    "collapsed": false
   },
   "outputs": [],
   "source": [
    "from sklearn.dummy import DummyClassifier\n",
    "from sklearn.metrics import recall_score, precision_score, accuracy_score, f1_score, confusion_matrix\n",
    "from sklearn.svm import SVC\n",
    "from sklearn.linear_model import LogisticRegression\n",
    "from sklearn.model_selection import GridSearchCV"
   ]
  },
  {
   "cell_type": "code",
   "execution_count": 14,
   "metadata": {
    "collapsed": true
   },
   "outputs": [],
   "source": [
    "dummyMajority = DummyClassifier(strategy = \"most_frequent\").fit(xtrain, ytrain)\n",
    "dummyPreds = dummyMajority.predict(xtest)"
   ]
  },
  {
   "cell_type": "code",
   "execution_count": 21,
   "metadata": {
    "collapsed": false
   },
   "outputs": [
    {
     "name": "stdout",
     "output_type": "stream",
     "text": [
      "Accuracy of dummy majority classifier:  0.985250737463\n",
      "Recall of dummy majority classifier:  0.0\n",
      "Precision of dummy majority classifier:  0.0\n",
      "F1 score of dummy majority classifier:  0.0\n"
     ]
    }
   ],
   "source": [
    "print \"Accuracy of dummy majority classifier: \", accuracy_score(ytest, dummyPreds)\n",
    "print \"Recall of dummy majority classifier: \", recall_score(ytest, dummyPreds)\n",
    "print \"Precision of dummy majority classifier: \", precision_score(ytest, dummyPreds);\n",
    "print \"F1 score of dummy majority classifier: \", f1_score(ytest, dummyPreds);"
   ]
  },
  {
   "cell_type": "code",
   "execution_count": 22,
   "metadata": {
    "collapsed": false
   },
   "outputs": [],
   "source": [
    "from sklearn.metrics import classification_report"
   ]
  },
  {
   "cell_type": "code",
   "execution_count": 24,
   "metadata": {
    "collapsed": false
   },
   "outputs": [
    {
     "name": "stdout",
     "output_type": "stream",
     "text": [
      "             precision    recall  f1-score   support\n",
      "\n",
      "  not fraud       0.99      1.00      0.99      5344\n",
      "      fraud       0.00      0.00      0.00        80\n",
      "\n",
      "avg / total       0.97      0.99      0.98      5424\n",
      "\n"
     ]
    }
   ],
   "source": [
    "print classification_report(ytest, dummyPreds, target_names=[\"not fraud\", \"fraud\"]);"
   ]
  },
  {
   "cell_type": "code",
   "execution_count": 25,
   "metadata": {
    "collapsed": true
   },
   "outputs": [],
   "source": [
    "svc = SVC().fit(xtrain, ytrain)\n",
    "svPreds = svc.predict(xtest)"
   ]
  },
  {
   "cell_type": "code",
   "execution_count": 29,
   "metadata": {
    "collapsed": false
   },
   "outputs": [
    {
     "name": "stdout",
     "output_type": "stream",
     "text": [
      "Accuracy of SVC: 0.990781710914\n",
      "Precision of SVC: 1.0\n",
      "Recall of SVC: 0.375\n",
      "F1 score of SVC: 0.545454545455\n"
     ]
    }
   ],
   "source": [
    "print \"Accuracy of SVC:\", accuracy_score(ytest, svPreds)\n",
    "print \"Precision of SVC:\", precision_score(ytest, svPreds)\n",
    "print \"Recall of SVC:\", recall_score(ytest, svPreds)\n",
    "print \"F1 score of SVC:\", f1_score(ytest, svPreds)"
   ]
  },
  {
   "cell_type": "code",
   "execution_count": 30,
   "metadata": {
    "collapsed": false
   },
   "outputs": [
    {
     "name": "stdout",
     "output_type": "stream",
     "text": [
      "             precision    recall  f1-score   support\n",
      "\n",
      "  not fraud       0.99      1.00      1.00      5344\n",
      "      fraud       1.00      0.38      0.55        80\n",
      "\n",
      "avg / total       0.99      0.99      0.99      5424\n",
      "\n"
     ]
    }
   ],
   "source": [
    "print classification_report(ytest, svPreds, target_names=[\"not fraud\", \"fraud\"])"
   ]
  },
  {
   "cell_type": "code",
   "execution_count": 31,
   "metadata": {
    "collapsed": true
   },
   "outputs": [],
   "source": [
    "svc2 = SVC(C=1e9, gamma=1e-07).fit(xtrain, ytrain)\n",
    "svPreds = svc2.predict(xtest)"
   ]
  },
  {
   "cell_type": "code",
   "execution_count": 32,
   "metadata": {
    "collapsed": false
   },
   "outputs": [
    {
     "name": "stdout",
     "output_type": "stream",
     "text": [
      "Accuracy of SVC: 0.996312684366\n",
      "Precision of SVC: 0.941176470588\n",
      "Recall of SVC: 0.8\n",
      "F1 score of SVC: 0.864864864865\n"
     ]
    }
   ],
   "source": [
    "print \"Accuracy of SVC:\", accuracy_score(ytest, svPreds)\n",
    "print \"Precision of SVC:\", precision_score(ytest, svPreds)\n",
    "print \"Recall of SVC:\", recall_score(ytest, svPreds)\n",
    "print \"F1 score of SVC:\", f1_score(ytest, svPreds)"
   ]
  },
  {
   "cell_type": "code",
   "execution_count": 33,
   "metadata": {
    "collapsed": false
   },
   "outputs": [
    {
     "name": "stdout",
     "output_type": "stream",
     "text": [
      "             precision    recall  f1-score   support\n",
      "\n",
      "  not fraud       1.00      1.00      1.00      5344\n",
      "      fraud       0.94      0.80      0.86        80\n",
      "\n",
      "avg / total       1.00      1.00      1.00      5424\n",
      "\n"
     ]
    }
   ],
   "source": [
    "print classification_report(ytest, svPreds, target_names=[\"not fraud\", \"fraud\"])"
   ]
  },
  {
   "cell_type": "code",
   "execution_count": 42,
   "metadata": {
    "collapsed": false
   },
   "outputs": [
    {
     "name": "stdout",
     "output_type": "stream",
     "text": [
      "[[5340    4]\n",
      " [  16   64]]\n"
     ]
    }
   ],
   "source": [
    "print confusion_matrix(ytest, svPreds)"
   ]
  },
  {
   "cell_type": "code",
   "execution_count": 43,
   "metadata": {
    "collapsed": true
   },
   "outputs": [],
   "source": [
    "from sklearn.metrics import precision_recall_curve"
   ]
  },
  {
   "cell_type": "code",
   "execution_count": 44,
   "metadata": {
    "collapsed": true
   },
   "outputs": [],
   "source": [
    "logScores = LogisticRegression().fit(xtrain, ytrain).decision_function(xtest)\n",
    "precision, recall, thresholds = precision_recall_curve(ytest, logScores)"
   ]
  },
  {
   "cell_type": "code",
   "execution_count": 47,
   "metadata": {
    "collapsed": false
   },
   "outputs": [
    {
     "data": {
      "image/png": "[encoded data removed]",
      "text/plain": [
       "<matplotlib.figure.Figure at 0xe9112e8>"
      ]
     },
     "metadata": {},
     "output_type": "display_data"
    }
   ],
   "source": [
    "closest_zero = np.argmin(np.abs(thresholds))\n",
    "closest_zero_p = precision[closest_zero]\n",
    "closest_zero_r = recall[closest_zero]\n",
    "plt.figure(figsize=(8, 8));\n",
    "plt.xlim([0.0, 1.01]);\n",
    "plt.ylim([0.0, 1.01]);\n",
    "plt.plot(precision, recall, label=\"Precision-Recall Curve\")\n",
    "plt.plot(closest_zero_p, closest_zero_r, \"o\", markersize = 12, fillstyle=\"none\", c=\"r\", mew=3);\n",
    "plt.xlabel(\"Precision\");\n",
    "plt.ylabel(\"Recall\");\n",
    "plt.axes().set_aspect(\"equal\");\n",
    "plt.legend();\n",
    "plt.show();"
   ]
  },
  {
   "cell_type": "code",
   "execution_count": 48,
   "metadata": {
    "collapsed": true
   },
   "outputs": [],
   "source": [
    "from sklearn.metrics import roc_curve, auc"
   ]
  },
  {
   "cell_type": "code",
   "execution_count": 50,
   "metadata": {
    "collapsed": true
   },
   "outputs": [],
   "source": [
    "fpr, tpr, _ = roc_curve(ytest, logScores)\n",
    "logAuc = auc(fpr, tpr)"
   ]
  },
  {
   "cell_type": "code",
   "execution_count": 55,
   "metadata": {
    "collapsed": false
   },
   "outputs": [
    {
     "data": {
      "image/png": "[encoded data removed]",
      "text/plain": [
       "<matplotlib.figure.Figure at 0x130c4860>"
      ]
     },
     "metadata": {},
     "output_type": "display_data"
    }
   ],
   "source": [
    "plt.figure(figsize=(8, 8));\n",
    "plt.xlim([-0.01, 1]);\n",
    "plt.ylim([-0.01, 1.01]);\n",
    "plt.plot(fpr, tpr, lw=3);\n",
    "plt.title(\"Logistic Regression ROC curve (area={:0.4f})\".format(logAuc));\n",
    "plt.xlabel(\"False Positive Rate\")\n",
    "plt.ylabel(\"True Positive Rate\")\n",
    "plt.plot([0, 1], [0, 1], color=\"navy\", lw=3, linestyle=\"--\");\n",
    "plt.axes().set_aspect(\"equal\");"
   ]
  },
  {
   "cell_type": "code",
   "execution_count": 57,
   "metadata": {
    "collapsed": false
   },
   "outputs": [
    {
     "data": {
      "text/plain": [
       "GridSearchCV(cv=None, error_score='raise',\n",
       "       estimator=LogisticRegression(C=1.0, class_weight=None, dual=False, fit_intercept=True,\n",
       "          intercept_scaling=1, max_iter=100, multi_class='ovr', n_jobs=1,\n",
       "          penalty='l2', random_state=None, solver='liblinear', tol=0.0001,\n",
       "          verbose=0, warm_start=False),\n",
       "       fit_params={}, iid=True, n_jobs=1,\n",
       "       param_grid={'penalty': ['l1', 'l2'], 'C': [0.01, 0.1, 1, 10, 100]},\n",
       "       pre_dispatch='2*n_jobs', refit=True, return_train_score=True,\n",
       "       scoring=None, verbose=0)"
      ]
     },
     "execution_count": 57,
     "metadata": {},
     "output_type": "execute_result"
    }
   ],
   "source": [
    "penalties = [\"l1\", \"l2\"]\n",
    "Cs = [0.01, 0.1, 1, 10, 100]\n",
    "gridLog = GridSearchCV(LogisticRegression(), param_grid={\"penalty\": penalties, \"C\": Cs})\n",
    "gridLog.fit(xtrain, ytrain)"
   ]
  },
  {
   "cell_type": "code",
   "execution_count": 63,
   "metadata": {
    "collapsed": false
   },
   "outputs": [
    {
     "name": "stdout",
     "output_type": "stream",
     "text": [
      "             l1        l2\n",
      "0.01   0.994222  0.995390\n",
      "0.1    0.996066  0.996189\n",
      "1.0    0.996066  0.996128\n",
      "10.0   0.995882  0.995943\n",
      "100.0  0.995882  0.995882\n"
     ]
    }
   ],
   "source": [
    "test_scores = gridLog.cv_results_[\"mean_test_score\"].reshape((5, 2))\n",
    "test_df = pd.DataFrame(test_scores, columns=[\"l1\", \"l2\"], index=[\"0.01\", \"0.1\", \"1.0\", \"10.0\", \"100.0\"])\n",
    "print test_df"
   ]
  },
  {
   "cell_type": "code",
   "execution_count": 64,
   "metadata": {
    "collapsed": false
   },
   "outputs": [
    {
     "name": "stdout",
     "output_type": "stream",
     "text": [
      "{'penalty': 'l2', 'C': 0.1}\n"
     ]
    }
   ],
   "source": [
    "print gridLog.best_params_"
   ]
  },
  {
   "cell_type": "code",
   "execution_count": 66,
   "metadata": {
    "collapsed": false
   },
   "outputs": [
    {
     "data": {
      "image/png": "[encoded data removed]",
      "text/plain": [
       "<matplotlib.figure.Figure at 0xfaaeac8>"
      ]
     },
     "metadata": {},
     "output_type": "display_data"
    }
   ],
   "source": [
    "plt.figure(figsize=(8, 8));\n",
    "sns.heatmap(test_scores, xticklabels=[\"l1\", \"l2\"], yticklabels=[0.01, 0.1, 1.0, 10, 100]);\n",
    "plt.yticks(rotation=0);"
   ]
  },
  {
   "cell_type": "code",
   "execution_count": null,
   "metadata": {
    "collapsed": true
   },
   "outputs": [],
   "source": []
  }
 ],
 "metadata": {
  "kernelspec": {
   "display_name": "Python 2",
   "language": "python",
   "name": "python2"
  },
  "language_info": {
   "codemirror_mode": {
    "name": "ipython",
    "version": 2
   },
   "file_extension": ".py",
   "mimetype": "text/x-python",
   "name": "python",
   "nbconvert_exporter": "python",
   "pygments_lexer": "ipython2",
   "version": "2.7.13"
  }
 },
 "nbformat": 4,
 "nbformat_minor": 0
}
