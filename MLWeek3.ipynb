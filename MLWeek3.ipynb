{
 "cells": [
  {
   "cell_type": "code",
   "execution_count": 1,
   "metadata": {
    "collapsed": true
   },
   "outputs": [],
   "source": [
    "import numpy as np\n",
    "import pandas as pd\n",
    "import seaborn as sns\n",
    "import matplotlib.pyplot as plt\n",
    "from sklearn.model_selection import train_test_split\n",
    "from sklearn.datasets import load_digits\n",
    "%matplotlib inline\n",
    "plt.style.use(\"fivethirtyeight\")"
   ]
  },
  {
   "cell_type": "code",
   "execution_count": 2,
   "metadata": {
    "collapsed": true
   },
   "outputs": [],
   "source": [
    "data = load_digits()\n",
    "X, y = data.data, data.target"
   ]
  },
  {
   "cell_type": "code",
   "execution_count": 3,
   "metadata": {
    "collapsed": false
   },
   "outputs": [
    {
     "name": "stdout",
     "output_type": "stream",
     "text": [
      "0 178\n",
      "1 182\n",
      "2 177\n",
      "3 183\n",
      "4 181\n",
      "5 182\n",
      "6 181\n",
      "7 179\n",
      "8 174\n",
      "9 180\n"
     ]
    }
   ],
   "source": [
    "for class_name, class_count in zip(data.target_names, np.bincount(data.target)):\n",
    "    print class_name, class_count"
   ]
  },
  {
   "cell_type": "code",
   "execution_count": 4,
   "metadata": {
    "collapsed": false
   },
   "outputs": [
    {
     "name": "stdout",
     "output_type": "stream",
     "text": [
      "Original labels:  [1 2 3 4 5 6 7 8 9 0 1 2 3 4 5 6 7 8 9 0 1 2 3 4 5 6 7 8 9]\n",
      "New labels:  [1 0 0 0 0 0 0 0 0 0 1 0 0 0 0 0 0 0 0 0 1 0 0 0 0 0 0 0 0]\n"
     ]
    }
   ],
   "source": [
    "y_binary_imbalance = y.copy()\n",
    "y_binary_imbalance[y_binary_imbalance != 1] = 0\n",
    "\n",
    "print \"Original labels: \", y[1:30]\n",
    "print \"New labels: \", y_binary_imbalance[1:30]"
   ]
  },
  {
   "cell_type": "code",
   "execution_count": 5,
   "metadata": {
    "collapsed": false
   },
   "outputs": [
    {
     "data": {
      "text/plain": [
       "array([1615,  182], dtype=int64)"
      ]
     },
     "execution_count": 5,
     "metadata": {},
     "output_type": "execute_result"
    }
   ],
   "source": [
    "np.bincount(y_binary_imbalance)"
   ]
  },
  {
   "cell_type": "code",
   "execution_count": 6,
   "metadata": {
    "collapsed": true
   },
   "outputs": [],
   "source": [
    "from sklearn.svm import SVC"
   ]
  },
  {
   "cell_type": "code",
   "execution_count": 7,
   "metadata": {
    "collapsed": false
   },
   "outputs": [
    {
     "name": "stdout",
     "output_type": "stream",
     "text": [
      "0.908888888889\n"
     ]
    }
   ],
   "source": [
    "xtrain, xtest, ytrain, ytest = train_test_split(X, y_binary_imbalance, random_state=0)\n",
    "svm = SVC(kernel=\"rbf\", C = 1).fit(xtrain, ytrain)\n",
    "print svm.score(xtest, ytest)"
   ]
  },
  {
   "cell_type": "code",
   "execution_count": 8,
   "metadata": {
    "collapsed": false
   },
   "outputs": [],
   "source": [
    "from sklearn.dummy import DummyClassifier\n",
    "dummy_majority = DummyClassifier(strategy = \"most_frequent\").fit(xtrain, ytrain)\n",
    "dummy_preds = dummy_majority.predict(xtest)"
   ]
  },
  {
   "cell_type": "code",
   "execution_count": 9,
   "metadata": {
    "collapsed": false
   },
   "outputs": [
    {
     "name": "stdout",
     "output_type": "stream",
     "text": [
      "0.904444444444\n"
     ]
    }
   ],
   "source": [
    "print dummy_majority.score(xtest, ytest)"
   ]
  },
  {
   "cell_type": "code",
   "execution_count": 10,
   "metadata": {
    "collapsed": false
   },
   "outputs": [
    {
     "name": "stdout",
     "output_type": "stream",
     "text": [
      "0.977777777778\n"
     ]
    }
   ],
   "source": [
    "svm = SVC(kernel=\"linear\", C = 1).fit(xtrain, ytrain)\n",
    "print svm.score(xtest, ytest)"
   ]
  },
  {
   "cell_type": "code",
   "execution_count": 11,
   "metadata": {
    "collapsed": true
   },
   "outputs": [],
   "source": [
    "from sklearn.metrics import confusion_matrix"
   ]
  },
  {
   "cell_type": "code",
   "execution_count": 12,
   "metadata": {
    "collapsed": false
   },
   "outputs": [
    {
     "name": "stdout",
     "output_type": "stream",
     "text": [
      "Dummy class confusion class: \n",
      "[[407   0]\n",
      " [ 43   0]]\n"
     ]
    }
   ],
   "source": [
    "dummy_majority = DummyClassifier(strategy=\"most_frequent\").fit(xtrain, ytrain)\n",
    "y_majority_pred = dummy_majority.predict(xtest)\n",
    "confusion = confusion_matrix(ytest, y_majority_pred)\n",
    "print \"Dummy class confusion class: \\n\", confusion"
   ]
  },
  {
   "cell_type": "code",
   "execution_count": 13,
   "metadata": {
    "collapsed": false
   },
   "outputs": [
    {
     "name": "stdout",
     "output_type": "stream",
     "text": [
      "Linear SVC confusion matrix: \n",
      "[[402   5]\n",
      " [  5  38]]\n"
     ]
    }
   ],
   "source": [
    "svm_pred = svm.predict(xtest)\n",
    "svm_confuse = confusion_matrix(ytest, svm_pred)\n",
    "print \"Linear SVC confusion matrix: \\n\", svm_confuse"
   ]
  },
  {
   "cell_type": "code",
   "execution_count": 14,
   "metadata": {
    "collapsed": false
   },
   "outputs": [
    {
     "name": "stdout",
     "output_type": "stream",
     "text": [
      "Stratified class prediction confusion matrix: \n",
      "[[367  40]\n",
      " [ 37   6]]\n"
     ]
    }
   ],
   "source": [
    "dummy_classprop = DummyClassifier(strategy=\"stratified\").fit(xtrain, ytrain)\n",
    "y_strat_pred = dummy_classprop.predict(xtest)\n",
    "strat_confuse = confusion_matrix(ytest, y_strat_pred)\n",
    "print \"Stratified class prediction confusion matrix: \\n\", strat_confuse"
   ]
  },
  {
   "cell_type": "code",
   "execution_count": 15,
   "metadata": {
    "collapsed": true
   },
   "outputs": [],
   "source": [
    "from sklearn.metrics import accuracy_score, precision_score, recall_score, f1_score"
   ]
  },
  {
   "cell_type": "code",
   "execution_count": 16,
   "metadata": {
    "collapsed": true
   },
   "outputs": [],
   "source": [
    "#Accuracy = (TP + TN) / (TP + TN + FP + FN)\n",
    "#Precision = TP/(TP + FP)\n",
    "#Recall = TP / (TP + FN), also called sensitivity\n",
    "#F1 = 2 * Precision * Recall / (Precision + Recall)"
   ]
  },
  {
   "cell_type": "code",
   "execution_count": 17,
   "metadata": {
    "collapsed": false
   },
   "outputs": [
    {
     "name": "stdout",
     "output_type": "stream",
     "text": [
      "Logistic regression confusion matrix: \n",
      "[[401   6]\n",
      " [  6  37]]\n"
     ]
    }
   ],
   "source": [
    "from sklearn.linear_model import LogisticRegression\n",
    "log = LogisticRegression().fit(xtrain, ytrain)\n",
    "logPreds = log.predict(xtest)\n",
    "logConfuse = confusion_matrix(ytest, logPreds)\n",
    "print \"Logistic regression confusion matrix: \\n\", logConfuse"
   ]
  },
  {
   "cell_type": "code",
   "execution_count": 18,
   "metadata": {
    "collapsed": false
   },
   "outputs": [
    {
     "name": "stdout",
     "output_type": "stream",
     "text": [
      "Decision tree confusion matrix: \n",
      "[[400   7]\n",
      " [ 17  26]]\n"
     ]
    }
   ],
   "source": [
    "from sklearn.tree import DecisionTreeClassifier\n",
    "tree = DecisionTreeClassifier(max_depth = 2).fit(xtrain, ytrain)\n",
    "treePreds = tree.predict(xtest)\n",
    "treeConfuse = confusion_matrix(ytest, treePreds)\n",
    "print \"Decision tree confusion matrix: \\n\", treeConfuse"
   ]
  },
  {
   "cell_type": "code",
   "execution_count": 19,
   "metadata": {
    "collapsed": false
   },
   "outputs": [
    {
     "name": "stdout",
     "output_type": "stream",
     "text": [
      "Accuracy: 0.95\n",
      "Precision: 0.79\n",
      "Recall: 0.60\n",
      "F1 score: 0.68\n"
     ]
    }
   ],
   "source": [
    "print 'Accuracy: {:.2f}'.format(accuracy_score(ytest, treePreds))\n",
    "print 'Precision: {:.2f}'.format(precision_score(ytest, treePreds))\n",
    "print 'Recall: {:.2f}'.format(recall_score(ytest, treePreds))\n",
    "print 'F1 score: {:.2f}'.format(f1_score(ytest, treePreds))"
   ]
  },
  {
   "cell_type": "code",
   "execution_count": 20,
   "metadata": {
    "collapsed": true
   },
   "outputs": [],
   "source": [
    "from sklearn.metrics import classification_report"
   ]
  },
  {
   "cell_type": "code",
   "execution_count": 21,
   "metadata": {
    "collapsed": false
   },
   "outputs": [
    {
     "name": "stdout",
     "output_type": "stream",
     "text": [
      "             precision    recall  f1-score   support\n",
      "\n",
      "      not 1       0.96      0.98      0.97       407\n",
      "          1       0.79      0.60      0.68        43\n",
      "\n",
      "avg / total       0.94      0.95      0.94       450\n",
      "\n"
     ]
    }
   ],
   "source": [
    "print classification_report(ytest, treePreds, target_names=[\"not 1\", \"1\"])"
   ]
  },
  {
   "cell_type": "code",
   "execution_count": 22,
   "metadata": {
    "collapsed": false
   },
   "outputs": [
    {
     "name": "stdout",
     "output_type": "stream",
     "text": [
      "[(0, -23.176968708056926), (0, -13.541369730889837), (0, -21.722744479080674), (0, -18.907382154600498), (0, -19.735782482277287), (0, -9.7497062466359665), (1, 5.2350051952261571), (0, -19.307487561985802), (0, -25.101086936386103), (0, -21.82730033991561), (0, -24.151134852996385), (0, -19.57688751366944), (0, -22.574657333754267), (0, -10.823308218720216), (0, -11.912085071104867), (0, -10.979187636253842), (1, 11.205964283641419), (0, -27.645926953447926), (0, -12.859411586795881), (0, -25.84868793759199)]\n"
     ]
    }
   ],
   "source": [
    "y_scores_lr = log.fit(xtrain, ytrain).decision_function(xtest)\n",
    "y_score_list = list(zip(ytest[:20], y_scores_lr[0:20]))\n",
    "print y_score_list"
   ]
  },
  {
   "cell_type": "code",
   "execution_count": 23,
   "metadata": {
    "collapsed": false
   },
   "outputs": [
    {
     "name": "stdout",
     "output_type": "stream",
     "text": [
      "[(0, 8.5974643330642508e-11), (0, 1.3153983028590654e-06), (0, 3.6807128788234909e-10), (0, 6.1465052987410425e-09), (0, 2.6844700978006756e-09), (0, 5.8308390433197469e-05), (1, 0.99470142760867652), (0, 4.119691454369493e-09), (0, 1.2552679886185212e-11), (0, 3.3153081967996498e-10), (0, 3.2456030411142168e-11), (0, 3.1467756333433573e-09), (0, 1.5701852342967064e-10), (0, 1.9929128593595975e-05), (0, 6.7087911484915541e-06), (0, 1.7052654297925158e-05), (1, 0.99998640730275112), (0, 9.8520470455343577e-13), (0, 2.6015212488670242e-06), (0, 5.9437079838929921e-12)]\n"
     ]
    }
   ],
   "source": [
    "y_prob_lr = log.fit(xtrain, ytrain).predict_proba(xtest)\n",
    "y_prob_list = list(zip(ytest[:20], y_prob_lr[:20, 1]))\n",
    "print y_prob_list"
   ]
  },
  {
   "cell_type": "code",
   "execution_count": 24,
   "metadata": {
    "collapsed": true
   },
   "outputs": [],
   "source": [
    "from sklearn.metrics import roc_curve, auc"
   ]
  },
  {
   "cell_type": "code",
   "execution_count": 31,
   "metadata": {
    "collapsed": false
   },
   "outputs": [
    {
     "data": {
      "image/png": "[encoded data removed]",
      "text/plain": [
       "<matplotlib.figure.Figure at 0xc886668>"
      ]
     },
     "metadata": {},
     "output_type": "display_data"
    }
   ],
   "source": [
    "fpr_lr, tpr_lr, _ = roc_curve(ytest, y_scores_lr)\n",
    "roc_auc_lr = auc(fpr_lr, tpr_lr)\n",
    "\n",
    "plt.figure();\n",
    "plt.xlim([-0.01, 1.0]);\n",
    "plt.ylim([-0.01, 1.01]);\n",
    "plt.plot(fpr_lr, tpr_lr, lw=3, label=\"LogReg ROC (area = {:0.2f})\".format(roc_auc_lr));\n",
    "plt.xlabel(\"False Positive\");\n",
    "plt.ylabel(\"True Positive\");\n",
    "plt.title(\"ROC Curve 10 Digit Classifier\");\n",
    "plt.plot([0, 1], [0, 1], color=\"navy\", lw=3, linestyle=\"--\");\n",
    "plt.axes().set_aspect(\"equal\");\n",
    "plt.legend(loc=\"lower right\");"
   ]
  },
  {
   "cell_type": "code",
   "execution_count": 32,
   "metadata": {
    "collapsed": false
   },
   "outputs": [
    {
     "data": {
      "image/png": "[encoded data removed]",
      "text/plain": [
       "<matplotlib.figure.Figure at 0xba961d0>"
      ]
     },
     "metadata": {},
     "output_type": "display_data"
    },
    {
     "data": {
      "image/png": "[encoded data removed]",
      "text/plain": [
       "<matplotlib.figure.Figure at 0xcbaf828>"
      ]
     },
     "metadata": {},
     "output_type": "display_data"
    }
   ],
   "source": [
    "dataset = load_digits()\n",
    "X, y = dataset.data, dataset.target\n",
    "X_train_mc, X_test_mc, y_train_mc, y_test_mc = train_test_split(X, y, random_state=0)\n",
    "\n",
    "\n",
    "svm = SVC(kernel = 'linear').fit(X_train_mc, y_train_mc)\n",
    "svm_predicted_mc = svm.predict(X_test_mc)\n",
    "confusion_mc = confusion_matrix(y_test_mc, svm_predicted_mc)\n",
    "df_cm = pd.DataFrame(confusion_mc, \n",
    "                     index = [i for i in range(0,10)], columns = [i for i in range(0,10)])\n",
    "\n",
    "plt.figure(figsize=(5.5,4))\n",
    "sns.heatmap(df_cm, annot=True)\n",
    "plt.title('SVM Linear Kernel \\nAccuracy:{0:.3f}'.format(accuracy_score(y_test_mc, \n",
    "                                                                       svm_predicted_mc)))\n",
    "plt.ylabel('True label')\n",
    "plt.xlabel('Predicted label')\n",
    "\n",
    "\n",
    "svm = SVC(kernel = 'rbf').fit(X_train_mc, y_train_mc)\n",
    "svm_predicted_mc = svm.predict(X_test_mc)\n",
    "confusion_mc = confusion_matrix(y_test_mc, svm_predicted_mc)\n",
    "df_cm = pd.DataFrame(confusion_mc, index = [i for i in range(0,10)],\n",
    "                  columns = [i for i in range(0,10)])\n",
    "\n",
    "plt.figure(figsize = (5.5,4))\n",
    "sns.heatmap(df_cm, annot=True)\n",
    "plt.title('SVM RBF Kernel \\nAccuracy:{0:.3f}'.format(accuracy_score(y_test_mc, \n",
    "                                                                    svm_predicted_mc)))\n",
    "plt.ylabel('True label')\n",
    "plt.xlabel('Predicted label');"
   ]
  },
  {
   "cell_type": "code",
   "execution_count": 33,
   "metadata": {
    "collapsed": false
   },
   "outputs": [
    {
     "name": "stdout",
     "output_type": "stream",
     "text": [
      "             precision    recall  f1-score   support\n",
      "\n",
      "          0       1.00      0.65      0.79        37\n",
      "          1       1.00      0.23      0.38        43\n",
      "          2       1.00      0.39      0.56        44\n",
      "          3       1.00      0.93      0.97        45\n",
      "          4       0.14      1.00      0.25        38\n",
      "          5       1.00      0.33      0.50        48\n",
      "          6       1.00      0.54      0.70        52\n",
      "          7       1.00      0.35      0.52        48\n",
      "          8       1.00      0.02      0.04        48\n",
      "          9       1.00      0.55      0.71        47\n",
      "\n",
      "avg / total       0.93      0.49      0.54       450\n",
      "\n"
     ]
    }
   ],
   "source": [
    "print classification_report(y_test_mc, svm_predicted_mc)"
   ]
  },
  {
   "cell_type": "code",
   "execution_count": 34,
   "metadata": {
    "collapsed": false
   },
   "outputs": [
    {
     "name": "stdout",
     "output_type": "stream",
     "text": [
      "Micro-averaged precision = 0.4867 (treat instances equally)\n",
      "Macro-averaged precision = 0.9141 (treat classes equally)\n"
     ]
    }
   ],
   "source": [
    "print('Micro-averaged precision = {:.4f} (treat instances equally)'\n",
    "      .format(precision_score(y_test_mc, svm_predicted_mc, average = 'micro')))\n",
    "print('Macro-averaged precision = {:.4f} (treat classes equally)'\n",
    "      .format(precision_score(y_test_mc, svm_predicted_mc, average = 'macro')))"
   ]
  },
  {
   "cell_type": "code",
   "execution_count": 35,
   "metadata": {
    "collapsed": false
   },
   "outputs": [
    {
     "name": "stdout",
     "output_type": "stream",
     "text": [
      "Micro-averaged f1 = 0.4867 (treat instances equally)\n",
      "Macro-averaged f1 = 0.5411 (treat classes equally)\n"
     ]
    }
   ],
   "source": [
    "print('Micro-averaged f1 = {:.4f} (treat instances equally)'\n",
    "      .format(f1_score(y_test_mc, svm_predicted_mc, average = 'micro')))\n",
    "print('Macro-averaged f1 = {:.4f} (treat classes equally)'\n",
    "      .format(f1_score(y_test_mc, svm_predicted_mc, average = 'macro')))"
   ]
  },
  {
   "cell_type": "code",
   "execution_count": 38,
   "metadata": {
    "collapsed": true
   },
   "outputs": [],
   "source": [
    "from sklearn import datasets\n",
    "from sklearn.linear_model import LinearRegression\n",
    "from sklearn.metrics import mean_squared_error, r2_score\n",
    "from sklearn.dummy import DummyRegressor"
   ]
  },
  {
   "cell_type": "code",
   "execution_count": 43,
   "metadata": {
    "collapsed": false
   },
   "outputs": [
    {
     "name": "stdout",
     "output_type": "stream",
     "text": [
      "('Linear model, coefficients: ', array([-698.80206267]))\n",
      "Mean squared error (dummy): 4965.13\n",
      "Mean squared error (linear model): 4646.74\n",
      "r2_score (dummy): -0.00\n",
      "r2_score (linear model): 0.06\n"
     ]
    },
    {
     "data": {
      "image/png": "[encoded data removed]",
      "text/plain": [
       "<matplotlib.figure.Figure at 0xb9e8630>"
      ]
     },
     "metadata": {},
     "output_type": "display_data"
    }
   ],
   "source": [
    "diabetes = datasets.load_diabetes()\n",
    "\n",
    "X = diabetes.data[:, None, 6]\n",
    "y = diabetes.target\n",
    "\n",
    "X_train, X_test, y_train, y_test = train_test_split(X, y, random_state=0)\n",
    "\n",
    "lm = LinearRegression().fit(X_train, y_train)\n",
    "lm_dummy_mean = DummyRegressor(strategy = 'mean').fit(X_train, y_train)\n",
    "\n",
    "y_predict = lm.predict(X_test)\n",
    "y_predict_dummy_mean = lm_dummy_mean.predict(X_test)\n",
    "\n",
    "print('Linear model, coefficients: ', lm.coef_)\n",
    "print(\"Mean squared error (dummy): {:.2f}\".format(mean_squared_error(y_test, \n",
    "                                                                     y_predict_dummy_mean)))\n",
    "print(\"Mean squared error (linear model): {:.2f}\".format(mean_squared_error(y_test, y_predict)))\n",
    "print(\"r2_score (dummy): {:.2f}\".format(r2_score(y_test, y_predict_dummy_mean)))\n",
    "print(\"r2_score (linear model): {:.2f}\".format(r2_score(y_test, y_predict)))\n",
    "\n",
    "# Plot outputs\n",
    "plt.scatter(X_test, y_test,  color='black')\n",
    "plt.plot(X_test, y_predict, color='green', linewidth=2)\n",
    "plt.plot(X_test, y_predict_dummy_mean, color='red', linestyle = 'dashed', \n",
    "         linewidth=2, label = 'dummy')\n",
    "\n",
    "plt.show()"
   ]
  },
  {
   "cell_type": "code",
   "execution_count": 53,
   "metadata": {
    "collapsed": false
   },
   "outputs": [
    {
     "data": {
      "image/png": "[encoded data removed]",
      "text/plain": [
       "<matplotlib.figure.Figure at 0xd548080>"
      ]
     },
     "metadata": {},
     "output_type": "display_data"
    }
   ],
   "source": [
    "stat = np.arange(25, 347, 0.25)\n",
    "MSEs = [mean_squared_error(y, [s]*len(y)) for s in stat]\n",
    "plt.plot(stat, MSEs);\n",
    "plt.xlabel(\"Stat\");\n",
    "plt.ylabel(\"Mean Squared Error\");"
   ]
  },
  {
   "cell_type": "code",
   "execution_count": 62,
   "metadata": {
    "collapsed": true
   },
   "outputs": [],
   "source": [
    "from sklearn.model_selection import cross_val_score\n",
    "from sklearn.model_selection import GridSearchCV\n",
    "from sklearn.metrics.scorer import SCORERS\n",
    "from sklearn.metrics import roc_auc_score"
   ]
  },
  {
   "cell_type": "code",
   "execution_count": 55,
   "metadata": {
    "collapsed": true
   },
   "outputs": [],
   "source": [
    "data = load_digits()\n",
    "X, y = data.data, data.target == 1\n",
    "clf = SVC(kernel=\"linear\", C = 1)"
   ]
  },
  {
   "cell_type": "code",
   "execution_count": 56,
   "metadata": {
    "collapsed": false
   },
   "outputs": [
    {
     "name": "stdout",
     "output_type": "stream",
     "text": [
      "Cross-validation (accuracy) [ 0.91944444  0.98611111  0.97214485  0.97493036  0.96935933]\n"
     ]
    }
   ],
   "source": [
    "print \"Cross-validation (accuracy)\", cross_val_score(clf, X, y, cv = 5)"
   ]
  },
  {
   "cell_type": "code",
   "execution_count": 57,
   "metadata": {
    "collapsed": false
   },
   "outputs": [
    {
     "name": "stdout",
     "output_type": "stream",
     "text": [
      "Cross-validation (AUC) [ 0.9641871   0.9976571   0.99372205  0.99699002  0.98675611]\n"
     ]
    }
   ],
   "source": [
    "print \"Cross-validation (AUC)\", cross_val_score(clf, X, y, cv =5, scoring=\"roc_auc\")"
   ]
  },
  {
   "cell_type": "code",
   "execution_count": 58,
   "metadata": {
    "collapsed": false
   },
   "outputs": [
    {
     "name": "stdout",
     "output_type": "stream",
     "text": [
      "Cross-validation (recall) [ 0.81081081  0.89189189  0.83333333  0.83333333  0.83333333]\n"
     ]
    }
   ],
   "source": [
    "print \"Cross-validation (recall)\", cross_val_score(clf, X, y, cv =5, scoring=\"recall\")"
   ]
  },
  {
   "cell_type": "code",
   "execution_count": 60,
   "metadata": {
    "collapsed": false
   },
   "outputs": [
    {
     "name": "stdout",
     "output_type": "stream",
     "text": [
      "Grid best parameter (max accuracy):  {'gamma': 0.001}\n",
      "Grid best score (accuracy):  0.996288047513\n"
     ]
    }
   ],
   "source": [
    "xtrain, xtest, ytrain, ytest = train_test_split(X, y, random_state = 0)\n",
    "clf = SVC(kernel=\"rbf\")\n",
    "grid_values = {\"gamma\": [0.001, 0.01, 0.05, 0.1, 1, 10, 100]}\n",
    "grid_clf_acc = GridSearchCV(clf, param_grid=grid_values)\n",
    "grid_clf_acc.fit(xtrain, ytrain)\n",
    "y_decision_acc = grid_clf_acc.decision_function(xtest)\n",
    "print \"Grid best parameter (max accuracy): \", grid_clf_acc.best_params_\n",
    "print \"Grid best score (accuracy): \", grid_clf_acc.best_score_"
   ]
  },
  {
   "cell_type": "code",
   "execution_count": 63,
   "metadata": {
    "collapsed": false
   },
   "outputs": [
    {
     "name": "stdout",
     "output_type": "stream",
     "text": [
      "('Test set AUC: ', 0.99982858122393004)\n",
      "('Grid best parameter (max. AUC): ', {'gamma': 0.001})\n",
      "('Grid best score (AUC): ', 0.99987412783021423)\n"
     ]
    }
   ],
   "source": [
    "# alternative metric to optimize over grid parameters: AUC\n",
    "grid_clf_auc = GridSearchCV(clf, param_grid = grid_values, scoring = 'roc_auc')\n",
    "grid_clf_auc.fit(xtrain, ytrain)\n",
    "y_decision_fn_scores_auc = grid_clf_auc.decision_function(xtest) \n",
    "\n",
    "print('Test set AUC: ', roc_auc_score(ytest, y_decision_fn_scores_auc))\n",
    "print('Grid best parameter (max. AUC): ', grid_clf_auc.best_params_)\n",
    "print('Grid best score (AUC): ', grid_clf_auc.best_score_)"
   ]
  },
  {
   "cell_type": "code",
   "execution_count": 64,
   "metadata": {
    "collapsed": false
   },
   "outputs": [
    {
     "name": "stdout",
     "output_type": "stream",
     "text": [
      "['accuracy', 'adjusted_rand_score', 'average_precision', 'f1', 'f1_macro', 'f1_micro', 'f1_samples', 'f1_weighted', 'log_loss', 'mean_absolute_error', 'mean_squared_error', 'median_absolute_error', 'neg_log_loss', 'neg_mean_absolute_error', 'neg_mean_squared_error', 'neg_median_absolute_error', 'precision', 'precision_macro', 'precision_micro', 'precision_samples', 'precision_weighted', 'r2', 'recall', 'recall_macro', 'recall_micro', 'recall_samples', 'recall_weighted', 'roc_auc']\n"
     ]
    }
   ],
   "source": [
    "print sorted(list(SCORERS.keys()))"
   ]
  },
  {
   "cell_type": "code",
   "execution_count": null,
   "metadata": {
    "collapsed": true
   },
   "outputs": [],
   "source": []
  }
 ],
 "metadata": {
  "kernelspec": {
   "display_name": "Python 2",
   "language": "python",
   "name": "python2"
  },
  "language_info": {
   "codemirror_mode": {
    "name": "ipython",
    "version": 2
   },
   "file_extension": ".py",
   "mimetype": "text/x-python",
   "name": "python",
   "nbconvert_exporter": "python",
   "pygments_lexer": "ipython2",
   "version": "2.7.13"
  }
 },
 "nbformat": 4,
 "nbformat_minor": 0
}
